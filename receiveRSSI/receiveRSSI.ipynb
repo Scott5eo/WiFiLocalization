{
 "cells": [
  {
   "cell_type": "code",
   "execution_count": 44,
   "metadata": {},
   "outputs": [
    {
     "name": "stdout",
     "output_type": "stream",
     "text": [
      "Scan done\n",
      "Start of data\n",
      "End of data\n",
      "Done!\n"
     ]
    }
   ],
   "source": [
    "import serial\n",
    "import json\n",
    "import os\n",
    "\n",
    "#label = location\n",
    "num_attempts = 1\n",
    "\n",
    "# Open serial port /dev/ttyUSB0 baudrate=115200. In windows, use COM ports\n",
    "ser = serial.Serial('/dev/ttyUSB1', 115200)\n",
    "\n",
    "#Keep reading from serial port\n",
    "global message\n",
    "i=0\n",
    "entries = []\n",
    "while(i<num_attempts):\n",
    "    line = ser.readline()\n",
    "    line = line.decode().strip()\n",
    "    if line ==  'start':\n",
    "        print(\"Start of data\")\n",
    "        while True:\n",
    "            line = ser.readline()\n",
    "            line = line.decode().strip()\n",
    "            if line == 'end':\n",
    "                #the file name will be checked if file_name+idx.json exists and add 1 if it does\n",
    "                data = message[:-1].split(';')\n",
    "                entries.append(data)\n",
    "                print(\"End of data\")\n",
    "                i += 1\n",
    "                break\n",
    "            else:\n",
    "                if(line != ''):\n",
    "                    message = line\n",
    "    else:\n",
    "        print(line)\n",
    "\n",
    "entries = entries[0]\n",
    "print(\"Done!\")"
   ]
  },
  {
   "cell_type": "code",
   "execution_count": 45,
   "metadata": {},
   "outputs": [
    {
     "name": "stdout",
     "output_type": "stream",
     "text": [
      "5\n"
     ]
    }
   ],
   "source": [
    "file_path = \"test_data/test0_0_0.json\"\n",
    "macs = []\n",
    "rssi = []\n",
    "filtered2 = []\n",
    "with open(file_path, \"r\") as f:\n",
    "    #read the json file\n",
    "    data = json.load(f)\n",
    "    for d in data:\n",
    "        d = json.loads(d)\n",
    "        macs.append(d[\"MAC\"])\n",
    "        rssi.append(d[\"RSSI\"])\n",
    "\n",
    "for e in entries:\n",
    "    data = json.loads(e)\n",
    "    if data[\"MAC\"] in macs:\n",
    "        filtered2.append(data)\n",
    "\n",
    "print(len(filtered))"
   ]
  },
  {
   "cell_type": "code",
   "execution_count": 46,
   "metadata": {},
   "outputs": [
    {
     "name": "stdout",
     "output_type": "stream",
     "text": [
      "5\n"
     ]
    }
   ],
   "source": [
    "print(len(filtered2))"
   ]
  },
  {
   "cell_type": "code",
   "execution_count": null,
   "metadata": {},
   "outputs": [],
   "source": []
  }
 ],
 "metadata": {
  "kernelspec": {
   "display_name": ".venv",
   "language": "python",
   "name": "python3"
  },
  "language_info": {
   "codemirror_mode": {
    "name": "ipython",
    "version": 3
   },
   "file_extension": ".py",
   "mimetype": "text/x-python",
   "name": "python",
   "nbconvert_exporter": "python",
   "pygments_lexer": "ipython3",
   "version": "3.11.5"
  }
 },
 "nbformat": 4,
 "nbformat_minor": 2
}
