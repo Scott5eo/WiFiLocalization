{
 "cells": [
  {
   "cell_type": "code",
   "execution_count": 30,
   "metadata": {},
   "outputs": [
    {
     "name": "stdout",
     "output_type": "stream",
     "text": [
      "Scan done\n",
      "Start of data\n",
      "End of data\n",
      "Done!\n"
     ]
    }
   ],
   "source": [
    "import serial\n",
    "import json\n",
    "import os\n",
    "\n",
    "#label = location\n",
    "num_attempts = 1\n",
    "\n",
    "# Open serial port /dev/ttyUSB0 baudrate=115200. In windows, use COM ports\n",
    "ser = serial.Serial('COM5', 115200)\n",
    "\n",
    "#Keep reading from serial port\n",
    "global message\n",
    "i=0\n",
    "entries = []\n",
    "while(i<num_attempts):\n",
    "    line = ser.readline()\n",
    "    line = line.decode().strip()\n",
    "    if line ==  'start':\n",
    "        print(\"Start of data\")\n",
    "        while True:\n",
    "            line = ser.readline()\n",
    "            line = line.decode().strip()\n",
    "            if line == 'end':\n",
    "                #the file name will be checked if file_name+idx.json exists and add 1 if it does\n",
    "                data = message[:-1].split(';')\n",
    "                entries.append(data)\n",
    "                print(\"End of data\")\n",
    "                i += 1\n",
    "                break\n",
    "            else:\n",
    "                if(line != ''):\n",
    "                    message = line\n",
    "    else:\n",
    "        print(line)\n",
    "\n",
    "# Close serial port\n",
    "ser.close()\n",
    "entries = entries[0]\n",
    "print(\"Done!\")"
   ]
  },
  {
   "cell_type": "code",
   "execution_count": 10,
   "metadata": {},
   "outputs": [
    {
     "ename": "FileNotFoundError",
     "evalue": "[Errno 2] No such file or directory: 'C:\\\\Users\\\\HOME\\\\Desktop\\\\연대 관련\\\\Year 3 sem 1\\\\CommsNetwork\\\\WiFiLocalization\\\\data\\\\0_0_0.json'",
     "output_type": "error",
     "traceback": [
      "\u001b[1;31m---------------------------------------------------------------------------\u001b[0m",
      "\u001b[1;31mFileNotFoundError\u001b[0m                         Traceback (most recent call last)",
      "\u001b[1;32m<ipython-input-10-f219dde47791>\u001b[0m in \u001b[0;36m<module>\u001b[1;34m\u001b[0m\n\u001b[0;32m      3\u001b[0m \u001b[0mrssi\u001b[0m \u001b[1;33m=\u001b[0m \u001b[1;33m[\u001b[0m\u001b[1;33m]\u001b[0m\u001b[1;33m\u001b[0m\u001b[1;33m\u001b[0m\u001b[0m\n\u001b[0;32m      4\u001b[0m \u001b[0mfiltered2\u001b[0m \u001b[1;33m=\u001b[0m \u001b[1;33m[\u001b[0m\u001b[1;33m]\u001b[0m\u001b[1;33m\u001b[0m\u001b[1;33m\u001b[0m\u001b[0m\n\u001b[1;32m----> 5\u001b[1;33m \u001b[1;32mwith\u001b[0m \u001b[0mopen\u001b[0m\u001b[1;33m(\u001b[0m\u001b[0mfile_path\u001b[0m\u001b[1;33m,\u001b[0m \u001b[1;34m\"r\"\u001b[0m\u001b[1;33m)\u001b[0m \u001b[1;32mas\u001b[0m \u001b[0mf\u001b[0m\u001b[1;33m:\u001b[0m\u001b[1;33m\u001b[0m\u001b[1;33m\u001b[0m\u001b[0m\n\u001b[0m\u001b[0;32m      6\u001b[0m     \u001b[1;31m#read the json file\u001b[0m\u001b[1;33m\u001b[0m\u001b[1;33m\u001b[0m\u001b[1;33m\u001b[0m\u001b[0m\n\u001b[0;32m      7\u001b[0m     \u001b[0mdata\u001b[0m \u001b[1;33m=\u001b[0m \u001b[0mjson\u001b[0m\u001b[1;33m.\u001b[0m\u001b[0mload\u001b[0m\u001b[1;33m(\u001b[0m\u001b[0mf\u001b[0m\u001b[1;33m)\u001b[0m\u001b[1;33m\u001b[0m\u001b[1;33m\u001b[0m\u001b[0m\n",
      "\u001b[1;31mFileNotFoundError\u001b[0m: [Errno 2] No such file or directory: 'C:\\\\Users\\\\HOME\\\\Desktop\\\\연대 관련\\\\Year 3 sem 1\\\\CommsNetwork\\\\WiFiLocalization\\\\data\\\\0_0_0.json'"
     ]
    }
   ],
   "source": [
    "file_path = \"C:\\\\Users\\\\HOME\\\\Desktop\\\\연대 관련\\\\Year 3 sem 1\\\\CommsNetwork\\\\WiFiLocalization\\\\data\\\\0_0_0.json\"\n",
    "macs = []\n",
    "rssi = []\n",
    "filtered2 = []\n",
    "with open(file_path, \"r\") as f:\n",
    "    #read the json file\n",
    "    data = json.load(f)\n",
    "    for d in data:\n",
    "        d = json.loads(d)\n",
    "        macs.append(d[\"MAC\"])\n",
    "        rssi.append(d[\"RSSI\"])\n",
    "\n",
    "for e in entries:\n",
    "    data = json.loads(e)\n",
    "    if data[\"MAC\"] in macs:\n",
    "        filtered2.append(data)\n",
    "\n",
    "print(len(filtered2))"
   ]
  },
  {
   "cell_type": "code",
   "execution_count": 31,
   "metadata": {},
   "outputs": [
    {
     "name": "stdout",
     "output_type": "stream",
     "text": [
      "['{\"MAC\":\"34:8A:12:C9:22:84\",\"RSSI\":-60}', '{\"MAC\":\"34:8A:12:C9:22:44\",\"RSSI\":-63}', '{\"MAC\":\"34:8A:12:C9:22:24\",\"RSSI\":-64}', '{\"MAC\":\"34:8A:12:C9:22:64\",\"RSSI\":-66}', '{\"MAC\":\"92:9F:33:48:48:88\",\"RSSI\":-69}', '{\"MAC\":\"04:09:A5:45:73:E7\",\"RSSI\":-76}', '{\"MAC\":\"34:8A:12:C9:22:08\",\"RSSI\":-76}', '{\"MAC\":\"84:72:07:1C:C5:20\",\"RSSI\":-97}']\n"
     ]
    }
   ],
   "source": [
    "print(entries)\n"
   ]
  },
  {
   "cell_type": "markdown",
   "metadata": {},
   "source": [
    "## TX-RX RSSI 정보\n",
    "약 1.5미터 간격에서\n",
    "84로 설정시 -60 RSS 측정\n",
    "\n",
    "08로 설정시 -76 RSS 측정"
   ]
  },
  {
   "cell_type": "code",
   "execution_count": null,
   "metadata": {},
   "outputs": [],
   "source": []
  }
 ],
 "metadata": {
  "kernelspec": {
   "display_name": ".venv",
   "language": "python",
   "name": "python3"
  },
  "language_info": {
   "codemirror_mode": {
    "name": "ipython",
    "version": 3
   },
   "file_extension": ".py",
   "mimetype": "text/x-python",
   "name": "python",
   "nbconvert_exporter": "python",
   "pygments_lexer": "ipython3",
   "version": "3.7.6"
  }
 },
 "nbformat": 4,
 "nbformat_minor": 2
}
