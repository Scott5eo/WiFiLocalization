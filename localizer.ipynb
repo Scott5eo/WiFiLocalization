{
 "cells": [
  {
   "cell_type": "code",
   "execution_count": 1,
   "metadata": {},
   "outputs": [],
   "source": [
    "import numpy as np\n",
    "import matplotlib.pyplot as plt\n",
    "import json\n",
    "import pandas as pd"
   ]
  },
  {
   "cell_type": "code",
   "execution_count": null,
   "metadata": {},
   "outputs": [],
   "source": [
    "#---------------------------Data Analysis--------------------------------------\n",
    "#data file name is in structure of \"label_attempt.json\" (e.g \"0_1.json\"), each file contains a list of dictionaries {\"MAC\":mac, \"RSSI\":rssi}\n",
    "#read through all files and create a set of MAC addresses that are in all files\n",
    "num_labels = 25\n",
    "num_attemps = 10\n",
    "mac_set = set()\n",
    "for label in range(num_labels):\n",
    "    for attempt in range(num_attemps):\n",
    "        file_name = str(label) + \"_\" + str(attempt) + \".json\"\n",
    "        with open(file_name, \"r\") as f:\n",
    "            data = json.load(f)\n",
    "            for item in data:\n",
    "                mac_set.add(item[\"MAC\"])\n",
    "mac_set = list(mac_set)\n",
    "print(\"Number of MAC addresses: \", len(mac_set))\n",
    "#save mac_set to a file\n",
    "with open(\"mac_set.txt\", \"w\") as f:\n",
    "    for mac in mac_set:\n",
    "        f.write(mac + \"\\n\")"
   ]
  },
  {
   "cell_type": "code",
   "execution_count": null,
   "metadata": {},
   "outputs": [],
   "source": [
    "#---------------------------Data Preprocessing--------------------------------------\n"
   ]
  }
 ],
 "metadata": {
  "kernelspec": {
   "display_name": "base",
   "language": "python",
   "name": "python3"
  },
  "language_info": {
   "codemirror_mode": {
    "name": "ipython",
    "version": 3
   },
   "file_extension": ".py",
   "mimetype": "text/x-python",
   "name": "python",
   "nbconvert_exporter": "python",
   "pygments_lexer": "ipython3",
   "version": "3.7.6"
  }
 },
 "nbformat": 4,
 "nbformat_minor": 2
}
